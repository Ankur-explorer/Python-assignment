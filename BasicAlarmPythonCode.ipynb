{
  "nbformat": 4,
  "nbformat_minor": 0,
  "metadata": {
    "colab": {
      "name": "Untitled3.ipynb",
      "provenance": []
    },
    "kernelspec": {
      "name": "python3",
      "display_name": "Python 3"
    }
  },
  "cells": [
    {
      "cell_type": "code",
      "metadata": {
        "id": "_x1eMDuvB7_d"
      },
      "source": [
        "import datetime\r\n",
        "import pytz\r\n",
        "import time\r\n",
        "\r\n",
        "IST = pytz.timezone('Asia/Kolkata') \r\n",
        "\r\n",
        "\r\n",
        "hour=int(input(\"enter the hour\"))\r\n",
        "minutes=int(input(\"enter the minutes\"))\r\n",
        "\r\n",
        "def weep(hour,minute):\r\n",
        " while(True): \r\n",
        "    x = datetime.datetime.now(IST) \r\n",
        "    time.sleep(15)\r\n",
        "    if(x.hour==hour and x.minute==minute):\r\n",
        "      print(\"weep\")\r\n",
        "\r\n",
        "weep(hour,minutes)"
      ],
      "execution_count": null,
      "outputs": []
    }
  ]
}
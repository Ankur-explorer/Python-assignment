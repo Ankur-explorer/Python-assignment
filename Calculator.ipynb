{
  "nbformat": 4,
  "nbformat_minor": 0,
  "metadata": {
    "colab": {
      "name": "Untitled1.ipynb",
      "provenance": []
    },
    "kernelspec": {
      "name": "python3",
      "display_name": "Python 3"
    }
  },
  "cells": [
    {
      "cell_type": "code",
      "metadata": {
        "colab": {
          "base_uri": "https://localhost:8080/"
        },
        "id": "lnDSn0G7k2L4",
        "outputId": "f0f926fa-10fd-4319-f643-86d373354781"
      },
      "source": [
        "#Calculator \r\n",
        "class Calci:\r\n",
        "    \r\n",
        " def __init__(myRefVar,num1,num2):\r\n",
        "       myRefVar.num1=num1\r\n",
        "       myRefVar.num2=num2\r\n",
        " \r\n",
        " def addition(myRefVar):\r\n",
        "       sum=myRefVar.num1+myRefVar.num2\r\n",
        "       return sum\r\n",
        "\r\n",
        " def subtraction(myRefVar):\r\n",
        "       sub=myRefVar.num1-myRefVar.num2\r\n",
        "       return sub\r\n",
        "  \r\n",
        " def multiplication(myRefVar):\r\n",
        "       multi=myRefVar.num1*myRefVar.num2\r\n",
        "       return multi\r\n",
        "\r\n",
        " def division(myRefVar):\r\n",
        "       if myRefVar.num2>0:\r\n",
        "         div=myRefVar.num1/myRefVar.num2\r\n",
        "         return div\r\n",
        "       else:\r\n",
        "         return \"dinominator must be greater then 0\"\r\n",
        " def modulus(myRefVar):\r\n",
        "       if myRefVar.num2>0:\r\n",
        "         modu=myRefVar.num1%myRefVar.num2\r\n",
        "         return modu\r\n",
        "    \r\n",
        " def power(myRefVar):\r\n",
        "      powe=myRefVar.num1**myRefVar.num2\r\n",
        "      return powe\r\n",
        "\r\n",
        "print(\"1 for addition\")\r\n",
        "print(\"2 for subtraction\")\r\n",
        "print(\"3 for multiplication\")\r\n",
        "print(\"4 for division\")\r\n",
        "print(\"5 for modulus\")\r\n",
        "print(\"6 for power\")\r\n",
        "\r\n",
        "\r\n",
        "\r\n",
        "x=\"yes\"\r\n",
        "\r\n",
        "while x==\"yes\":\r\n",
        " print(\"Enter the above chooce for operation\")\r\n",
        " choice=input(\"Enter the choice\")\r\n",
        " if choice in ('1','2','3','4','5','6'):\r\n",
        "         num1=int(input(\"Enter the first number\"))\r\n",
        "         num2=int(input(\"Enter the second number\"))\r\n",
        "         p1=Calci(num1,num2)\r\n",
        "\r\n",
        "         if choice=='1':\r\n",
        "            print(num1,\"+\",num2,\"=\",p1.addition())\r\n",
        "\r\n",
        "         elif choice=='2':\r\n",
        "            print(num1,\"-\",num2,\"=\",p1.subtraction())\r\n",
        "\r\n",
        "         elif choice=='3':\r\n",
        "           print(num1,\"*\",num2,\"=\",p1.multiplication())\r\n",
        "\r\n",
        "         elif choice=='4':\r\n",
        "            print(num1,\"/\",num2,\"=\",p1.division())\r\n",
        "\r\n",
        "         elif choice=='5':\r\n",
        "              print(num1,\"%\",num2,\"=\",p1.modulus())\r\n",
        "\r\n",
        "         elif choice=='6':\r\n",
        "              print(num1,\"**\",num2,\"=\",p1.power())\r\n",
        "\r\n",
        " else:\r\n",
        "         print(\"Invalid Input\")\r\n",
        "\r\n",
        " print(\"Do you Want to continue if yes please enter yes/no\") \r\n",
        " x=input(\"Enter yes/no\")"
      ],
      "execution_count": 2,
      "outputs": [
        {
          "output_type": "stream",
          "text": [
            "1 for addition\n",
            "2 for subtraction\n",
            "3 for multiplication\n",
            "4 for division\n",
            "5 for modulus\n",
            "6 for power\n",
            "Enter the above chooce for operation\n",
            "Enter the choice4\n",
            "Enter the first number5\n",
            "Enter the second number0\n",
            "5 / 0 = dinominator must be greater then 0\n",
            "Do you Want to continue if yes please enter yes/no\n",
            "Enter yes/nono\n"
          ],
          "name": "stdout"
        }
      ]
    }
  ]
}
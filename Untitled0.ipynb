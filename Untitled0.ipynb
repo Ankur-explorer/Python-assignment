{
  "nbformat": 4,
  "nbformat_minor": 0,
  "metadata": {
    "colab": {
      "name": "Untitled0.ipynb",
      "provenance": []
    },
    "kernelspec": {
      "name": "python3",
      "display_name": "Python 3"
    }
  },
  "cells": [
    {
      "cell_type": "code",
      "metadata": {
        "colab": {
          "base_uri": "https://localhost:8080/"
        },
        "id": "HbRyv1r3KWTF",
        "outputId": "a9afc052-c1da-4f0a-d1ba-b8e8d67bbde5"
      },
      "source": [
        "#print statement according to divisibility\r\n",
        "this_list=[1,2,3,4,5,6,7,8]\r\n",
        "for i in this_list:\r\n",
        "   if i%3==0 and i%5==0:\r\n",
        "     print(\"foobar\",i)\r\n",
        "   elif i%5==0:\r\n",
        "     print(\"bar\",i)\r\n",
        "   elif i%3==0:\r\n",
        "     print(\"foo\",i)"
      ],
      "execution_count": null,
      "outputs": [
        {
          "output_type": "stream",
          "text": [
            "foo 3\n",
            "bar 5\n",
            "foo 6\n"
          ],
          "name": "stdout"
        }
      ]
    },
    {
      "cell_type": "code",
      "metadata": {
        "colab": {
          "base_uri": "https://localhost:8080/"
        },
        "id": "mg2zxzG6P9Rd",
        "outputId": "e9fbc215-a5c7-4df1-845c-f95839eb889b"
      },
      "source": [
        "#Access 2 in dictionary\r\n",
        "this_dict={\"name\":1,\"SecondName\":\"AlphaRay\",\"Third\":[1,2]}\r\n",
        "for key,value in this_dict.items():\r\n",
        "    if type(value)==list:\r\n",
        "      for i in value:\r\n",
        "        if i==2:\r\n",
        "          print(i)\r\n"
      ],
      "execution_count": null,
      "outputs": [
        {
          "output_type": "stream",
          "text": [
            "2\n"
          ],
          "name": "stdout"
        }
      ]
    },
    {
      "cell_type": "code",
      "metadata": {
        "colab": {
          "base_uri": "https://localhost:8080/"
        },
        "id": "0p57tEiWvqok",
        "outputId": "3c4eae4e-43fc-4075-a6af-836d1c65ffe5"
      },
      "source": [
        "#print even number\r\n",
        "a=[1,2,3,4,5,6,7,8]\r\n",
        "for i in a:\r\n",
        "  if i%2==0:\r\n",
        "    print(i)"
      ],
      "execution_count": null,
      "outputs": [
        {
          "output_type": "stream",
          "text": [
            "2\n",
            "4\n",
            "6\n",
            "8\n"
          ],
          "name": "stdout"
        }
      ]
    },
    {
      "cell_type": "code",
      "metadata": {
        "colab": {
          "base_uri": "https://localhost:8080/"
        },
        "id": "RC0tESwExVh9",
        "outputId": "597aa233-780f-4f11-c072-fdd8d130d0e8"
      },
      "source": [
        "#print new list according to the target sum\r\n",
        "ab=[3,5,-4,8,11,1,-1,6]\r\n",
        "target_sum1=10\r\n",
        "b=[]\r\n",
        "def myfun(a,target_sum):\r\n",
        "  for i in a:\r\n",
        "    for j in a:\r\n",
        "      if i+j==target_sum and i!=j:\r\n",
        "        if i not in b:\r\n",
        "          if j not in b:\r\n",
        "            b.append(i)\r\n",
        "            b.append(j)\r\n",
        "\r\n",
        "myfun(ab,target_sum1)\r\n",
        "print(b)\r\n",
        "\r\n"
      ],
      "execution_count": null,
      "outputs": [
        {
          "output_type": "stream",
          "text": [
            "[11, -1]\n"
          ],
          "name": "stdout"
        }
      ]
    },
    {
      "cell_type": "code",
      "metadata": {
        "colab": {
          "base_uri": "https://localhost:8080/"
        },
        "id": "ObQk4T07Kgbl",
        "outputId": "ebe35c9f-f06a-456e-8fb8-2d2c99257900"
      },
      "source": [
        "#Calculator \r\n",
        "class Calci:\r\n",
        "    \r\n",
        " def __init__(myRefVar,num1,num2):\r\n",
        "       myRefVar.num1=num1\r\n",
        "       myRefVar.num2=num2\r\n",
        " \r\n",
        " def addition(myRefVar):\r\n",
        "       sum=myRefVar.num1+myRefVar.num2\r\n",
        "       return sum\r\n",
        "\r\n",
        " def subtraction(myRefVar):\r\n",
        "       sub=myRefVar.num1-myRefVar.num2\r\n",
        "       return sub\r\n",
        "  \r\n",
        " def multiplication(myRefVar):\r\n",
        "       multi=myRefVar.num1*myRefVar.num2\r\n",
        "       return multi\r\n",
        "\r\n",
        " def division(myRefVar):\r\n",
        "       if myRefVar.num2>0:\r\n",
        "         div=myRefVar.num1/myRefVar.num2\r\n",
        "         return div\r\n",
        "       else:\r\n",
        "         return \"dinominator must be greater then 0\"\r\n",
        " def modulus(myRefVar):\r\n",
        "       if myRefVar.num2>0:\r\n",
        "         modu=myRefVar.num1%myRefVar.num2\r\n",
        "         return modu\r\n",
        "    \r\n",
        " def power(myRefVar):\r\n",
        "      powe=myRefVar.num1**myRefVar.num2\r\n",
        "      return powe\r\n",
        "\r\n",
        "print(\"1 for addition\")\r\n",
        "print(\"2 for subtraction\")\r\n",
        "print(\"3 for multiplication\")\r\n",
        "print(\"4 for division\")\r\n",
        "print(\"5 for modulus\")\r\n",
        "print(\"6 for power\")\r\n",
        "\r\n",
        "\r\n",
        "\r\n",
        "x=\"yes\"\r\n",
        "\r\n",
        "while x==\"yes\":\r\n",
        " print(\"Enter the above chooce for operation\")\r\n",
        " choice=input(\"Enter the choice\")\r\n",
        " if choice in ('1','2','3','4','5','6'):\r\n",
        "         num1=int(input(\"Enter the first number\"))\r\n",
        "         num2=int(input(\"Enter the second number\"))\r\n",
        "         p1=Calci(num1,num2)\r\n",
        "\r\n",
        "         if choice=='1':\r\n",
        "            print(num1,\"+\",num2,\"=\",p1.addition())\r\n",
        "\r\n",
        "         elif choice=='2':\r\n",
        "            print(num1,\"-\",num2,\"=\",p1.subtraction())\r\n",
        "\r\n",
        "         elif choice=='3':\r\n",
        "           print(num1,\"*\",num2,\"=\",p1.multiplication())\r\n",
        "\r\n",
        "         elif choice=='4':\r\n",
        "            print(num1,\"/\",num2,\"=\",p1.division())\r\n",
        "\r\n",
        "         elif choice=='5':\r\n",
        "              print(num1,\"%\",num2,\"=\",p1.modulus())\r\n",
        "\r\n",
        "         elif choice=='6':\r\n",
        "              print(num1,\"**\",num2,\"=\",p1.power())\r\n",
        "\r\n",
        " else:\r\n",
        "         print(\"Invalid Input\")\r\n",
        "\r\n",
        " print(\"Do you Want to continue if yes please enter yes/no\") \r\n",
        " x=input(\"Enter yes/no\")"
      ],
      "execution_count": 49,
      "outputs": [
        {
          "output_type": "stream",
          "text": [
            "1 for addition\n",
            "2 for subtraction\n",
            "3 for multiplication\n",
            "4 for division\n",
            "5 for modulus\n",
            "6 for power\n",
            "Enter the above chooce for operation\n",
            "Enter the choice4\n",
            "Enter the first number5\n",
            "Enter the second number0\n",
            "5 / 0 = dinuminator must be greater then 0\n",
            "Do you Want to continue if yes please enter yes/no\n",
            "Enter yes/nono\n"
          ],
          "name": "stdout"
        }
      ]
    }
  ]
}
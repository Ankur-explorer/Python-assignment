{
  "nbformat": 4,
  "nbformat_minor": 0,
  "metadata": {
    "colab": {
      "name": "Untitled0.ipynb",
      "provenance": []
    },
    "kernelspec": {
      "name": "python3",
      "display_name": "Python 3"
    }
  },
  "cells": [
    {
      "cell_type": "code",
      "metadata": {
        "colab": {
          "base_uri": "https://localhost:8080/"
        },
        "id": "HbRyv1r3KWTF",
        "outputId": "a9afc052-c1da-4f0a-d1ba-b8e8d67bbde5"
      },
      "source": [
        "#print statement according to divisibility\r\n",
        "this_list=[1,2,3,4,5,6,7,8]\r\n",
        "for i in this_list:\r\n",
        "   if i%3==0 and i%5==0:\r\n",
        "     print(\"foobar\",i)\r\n",
        "   elif i%5==0:\r\n",
        "     print(\"bar\",i)\r\n",
        "   elif i%3==0:\r\n",
        "     print(\"foo\",i)"
      ],
      "execution_count": null,
      "outputs": [
        {
          "output_type": "stream",
          "text": [
            "foo 3\n",
            "bar 5\n",
            "foo 6\n"
          ],
          "name": "stdout"
        }
      ]
    },
    {
      "cell_type": "code",
      "metadata": {
        "colab": {
          "base_uri": "https://localhost:8080/"
        },
        "id": "mg2zxzG6P9Rd",
        "outputId": "e9fbc215-a5c7-4df1-845c-f95839eb889b"
      },
      "source": [
        "#Access 2 in dictionary\r\n",
        "this_dict={\"name\":1,\"SecondName\":\"AlphaRay\",\"Third\":[1,2]}\r\n",
        "for key,value in this_dict.items():\r\n",
        "    if type(value)==list:\r\n",
        "      for i in value:\r\n",
        "        if i==2:\r\n",
        "          print(i)\r\n"
      ],
      "execution_count": null,
      "outputs": [
        {
          "output_type": "stream",
          "text": [
            "2\n"
          ],
          "name": "stdout"
        }
      ]
    },
    {
      "cell_type": "code",
      "metadata": {
        "colab": {
          "base_uri": "https://localhost:8080/"
        },
        "id": "0p57tEiWvqok",
        "outputId": "3c4eae4e-43fc-4075-a6af-836d1c65ffe5"
      },
      "source": [
        "#print even number\r\n",
        "a=[1,2,3,4,5,6,7,8]\r\n",
        "for i in a:\r\n",
        "  if i%2==0:\r\n",
        "    print(i)"
      ],
      "execution_count": null,
      "outputs": [
        {
          "output_type": "stream",
          "text": [
            "2\n",
            "4\n",
            "6\n",
            "8\n"
          ],
          "name": "stdout"
        }
      ]
    },
    {
      "cell_type": "code",
      "metadata": {
        "colab": {
          "base_uri": "https://localhost:8080/"
        },
        "id": "RC0tESwExVh9",
        "outputId": "597aa233-780f-4f11-c072-fdd8d130d0e8"
      },
      "source": [
        "#print new list according to the target sum\r\n",
        "ab=[3,5,-4,8,11,1,-1,6]\r\n",
        "target_sum1=10\r\n",
        "b=[]\r\n",
        "def myfun(a,target_sum):\r\n",
        "  for i in a:\r\n",
        "    for j in a:\r\n",
        "      if i+j==target_sum and i!=j:\r\n",
        "        if i not in b:\r\n",
        "          if j not in b:\r\n",
        "            b.append(i)\r\n",
        "            b.append(j)\r\n",
        "\r\n",
        "myfun(ab,target_sum1)\r\n",
        "print(b)\r\n",
        "\r\n"
      ],
      "execution_count": null,
      "outputs": [
        {
          "output_type": "stream",
          "text": [
            "[11, -1]\n"
          ],
          "name": "stdout"
        }
      ]
    }
  ]
}